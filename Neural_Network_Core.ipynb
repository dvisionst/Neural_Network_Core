{
  "nbformat": 4,
  "nbformat_minor": 0,
  "metadata": {
    "colab": {
      "provenance": [],
      "collapsed_sections": [],
      "authorship_tag": "ABX9TyOJTWhqXbDY0tpBZ8FKolcf",
      "include_colab_link": true
    },
    "kernelspec": {
      "name": "python3",
      "display_name": "Python 3"
    },
    "language_info": {
      "name": "python"
    }
  },
  "cells": [
    {
      "cell_type": "markdown",
      "metadata": {
        "id": "view-in-github",
        "colab_type": "text"
      },
      "source": [
        "<a href=\"https://colab.research.google.com/github/dvisionst/Neural_Network_Core/blob/main/Neural_Network_Core.ipynb\" target=\"_parent\"><img src=\"https://colab.research.google.com/assets/colab-badge.svg\" alt=\"Open In Colab\"/></a>"
      ]
    },
    {
      "cell_type": "markdown",
      "source": [
        "# Neural Networks Core\n",
        "\n",
        "- Jose Flores\n",
        "- 9/1/2022"
      ],
      "metadata": {
        "id": "Lmb9q34sGtus"
      }
    },
    {
      "cell_type": "code",
      "execution_count": 57,
      "metadata": {
        "id": "MPbPaus-6KgK"
      },
      "outputs": [],
      "source": [
        "# Imports\n",
        "import numpy as np\n",
        "import matplotlib.pyplot as plt\n",
        "import pandas as pd\n",
        "from sklearn.preprocessing import StandardScaler, OneHotEncoder\n",
        "from sklearn.pipeline import make_pipeline\n",
        "from sklearn.model_selection import train_test_split\n",
        "from sklearn.compose import make_column_selector, make_column_transformer\n",
        "from sklearn.impute import SimpleImputer\n",
        "from tensorflow.keras.models import Sequential\n",
        "from tensorflow.keras.layers import Dense, Dropout\n",
        "from tensorflow.keras import metrics\n",
        "from sklearn.metrics import mean_squared_error, r2_score, mean_absolute_error\n",
        "from keras.layers import Dropout\n",
        "\n"
      ]
    },
    {
      "cell_type": "code",
      "source": [
        "# Using function from lesson plan week three 'Regression Models in Keras'\n",
        "# url: https://login.codingdojo.com/m/214/7186/89973\n",
        "\n",
        "\n",
        "#  You can use this function to see how your model improves over time\n",
        "def plot_history(history, metrics=None):\n",
        "  plt.plot(history.history['loss'], label='training')\n",
        "  plt.plot(history.history['val_loss'], label='testing')\n",
        "  plt.title('Loss')\n",
        "  plt.legend()\n",
        "  plt.show()\n",
        "  if metrics:\n",
        "    for metric in metrics:\n",
        "      plt.plot(history.history[metric], label=f'training {metric}')\n",
        "      plt.plot(history.history[f'val_{metric}'], label=f'testing {metric}')\n",
        "      plt.legend()\n",
        "      plt.title(metric)\n",
        "      plt.show()\n"
      ],
      "metadata": {
        "id": "Knig1GD3uo_m"
      },
      "execution_count": 3,
      "outputs": []
    },
    {
      "cell_type": "code",
      "source": [
        "# importing the data\n",
        "\n",
        "df = pd.read_csv('/content/train.csv')\n",
        "df.head()\n"
      ],
      "metadata": {
        "colab": {
          "base_uri": "https://localhost:8080/",
          "height": 236
        },
        "id": "GJc4oo2CHNFG",
        "outputId": "43015696-3d52-40a6-e5c6-046eef1fe28d"
      },
      "execution_count": 4,
      "outputs": [
        {
          "output_type": "execute_result",
          "data": {
            "text/plain": [
              "   Id  MSSubClass MSZoning  LotFrontage  LotArea Street Alley LotShape  \\\n",
              "0   1          60       RL         65.0     8450   Pave   NaN      Reg   \n",
              "1   2          20       RL         80.0     9600   Pave   NaN      Reg   \n",
              "2   3          60       RL         68.0    11250   Pave   NaN      IR1   \n",
              "3   4          70       RL         60.0     9550   Pave   NaN      IR1   \n",
              "4   5          60       RL         84.0    14260   Pave   NaN      IR1   \n",
              "\n",
              "  LandContour Utilities  ... PoolArea PoolQC Fence MiscFeature MiscVal MoSold  \\\n",
              "0         Lvl    AllPub  ...        0    NaN   NaN         NaN       0      2   \n",
              "1         Lvl    AllPub  ...        0    NaN   NaN         NaN       0      5   \n",
              "2         Lvl    AllPub  ...        0    NaN   NaN         NaN       0      9   \n",
              "3         Lvl    AllPub  ...        0    NaN   NaN         NaN       0      2   \n",
              "4         Lvl    AllPub  ...        0    NaN   NaN         NaN       0     12   \n",
              "\n",
              "  YrSold  SaleType  SaleCondition  SalePrice  \n",
              "0   2008        WD         Normal     208500  \n",
              "1   2007        WD         Normal     181500  \n",
              "2   2008        WD         Normal     223500  \n",
              "3   2006        WD        Abnorml     140000  \n",
              "4   2008        WD         Normal     250000  \n",
              "\n",
              "[5 rows x 81 columns]"
            ],
            "text/html": [
              "\n",
              "  <div id=\"df-7f36b10c-8977-4ae8-9671-1d12e7339c93\">\n",
              "    <div class=\"colab-df-container\">\n",
              "      <div>\n",
              "<style scoped>\n",
              "    .dataframe tbody tr th:only-of-type {\n",
              "        vertical-align: middle;\n",
              "    }\n",
              "\n",
              "    .dataframe tbody tr th {\n",
              "        vertical-align: top;\n",
              "    }\n",
              "\n",
              "    .dataframe thead th {\n",
              "        text-align: right;\n",
              "    }\n",
              "</style>\n",
              "<table border=\"1\" class=\"dataframe\">\n",
              "  <thead>\n",
              "    <tr style=\"text-align: right;\">\n",
              "      <th></th>\n",
              "      <th>Id</th>\n",
              "      <th>MSSubClass</th>\n",
              "      <th>MSZoning</th>\n",
              "      <th>LotFrontage</th>\n",
              "      <th>LotArea</th>\n",
              "      <th>Street</th>\n",
              "      <th>Alley</th>\n",
              "      <th>LotShape</th>\n",
              "      <th>LandContour</th>\n",
              "      <th>Utilities</th>\n",
              "      <th>...</th>\n",
              "      <th>PoolArea</th>\n",
              "      <th>PoolQC</th>\n",
              "      <th>Fence</th>\n",
              "      <th>MiscFeature</th>\n",
              "      <th>MiscVal</th>\n",
              "      <th>MoSold</th>\n",
              "      <th>YrSold</th>\n",
              "      <th>SaleType</th>\n",
              "      <th>SaleCondition</th>\n",
              "      <th>SalePrice</th>\n",
              "    </tr>\n",
              "  </thead>\n",
              "  <tbody>\n",
              "    <tr>\n",
              "      <th>0</th>\n",
              "      <td>1</td>\n",
              "      <td>60</td>\n",
              "      <td>RL</td>\n",
              "      <td>65.0</td>\n",
              "      <td>8450</td>\n",
              "      <td>Pave</td>\n",
              "      <td>NaN</td>\n",
              "      <td>Reg</td>\n",
              "      <td>Lvl</td>\n",
              "      <td>AllPub</td>\n",
              "      <td>...</td>\n",
              "      <td>0</td>\n",
              "      <td>NaN</td>\n",
              "      <td>NaN</td>\n",
              "      <td>NaN</td>\n",
              "      <td>0</td>\n",
              "      <td>2</td>\n",
              "      <td>2008</td>\n",
              "      <td>WD</td>\n",
              "      <td>Normal</td>\n",
              "      <td>208500</td>\n",
              "    </tr>\n",
              "    <tr>\n",
              "      <th>1</th>\n",
              "      <td>2</td>\n",
              "      <td>20</td>\n",
              "      <td>RL</td>\n",
              "      <td>80.0</td>\n",
              "      <td>9600</td>\n",
              "      <td>Pave</td>\n",
              "      <td>NaN</td>\n",
              "      <td>Reg</td>\n",
              "      <td>Lvl</td>\n",
              "      <td>AllPub</td>\n",
              "      <td>...</td>\n",
              "      <td>0</td>\n",
              "      <td>NaN</td>\n",
              "      <td>NaN</td>\n",
              "      <td>NaN</td>\n",
              "      <td>0</td>\n",
              "      <td>5</td>\n",
              "      <td>2007</td>\n",
              "      <td>WD</td>\n",
              "      <td>Normal</td>\n",
              "      <td>181500</td>\n",
              "    </tr>\n",
              "    <tr>\n",
              "      <th>2</th>\n",
              "      <td>3</td>\n",
              "      <td>60</td>\n",
              "      <td>RL</td>\n",
              "      <td>68.0</td>\n",
              "      <td>11250</td>\n",
              "      <td>Pave</td>\n",
              "      <td>NaN</td>\n",
              "      <td>IR1</td>\n",
              "      <td>Lvl</td>\n",
              "      <td>AllPub</td>\n",
              "      <td>...</td>\n",
              "      <td>0</td>\n",
              "      <td>NaN</td>\n",
              "      <td>NaN</td>\n",
              "      <td>NaN</td>\n",
              "      <td>0</td>\n",
              "      <td>9</td>\n",
              "      <td>2008</td>\n",
              "      <td>WD</td>\n",
              "      <td>Normal</td>\n",
              "      <td>223500</td>\n",
              "    </tr>\n",
              "    <tr>\n",
              "      <th>3</th>\n",
              "      <td>4</td>\n",
              "      <td>70</td>\n",
              "      <td>RL</td>\n",
              "      <td>60.0</td>\n",
              "      <td>9550</td>\n",
              "      <td>Pave</td>\n",
              "      <td>NaN</td>\n",
              "      <td>IR1</td>\n",
              "      <td>Lvl</td>\n",
              "      <td>AllPub</td>\n",
              "      <td>...</td>\n",
              "      <td>0</td>\n",
              "      <td>NaN</td>\n",
              "      <td>NaN</td>\n",
              "      <td>NaN</td>\n",
              "      <td>0</td>\n",
              "      <td>2</td>\n",
              "      <td>2006</td>\n",
              "      <td>WD</td>\n",
              "      <td>Abnorml</td>\n",
              "      <td>140000</td>\n",
              "    </tr>\n",
              "    <tr>\n",
              "      <th>4</th>\n",
              "      <td>5</td>\n",
              "      <td>60</td>\n",
              "      <td>RL</td>\n",
              "      <td>84.0</td>\n",
              "      <td>14260</td>\n",
              "      <td>Pave</td>\n",
              "      <td>NaN</td>\n",
              "      <td>IR1</td>\n",
              "      <td>Lvl</td>\n",
              "      <td>AllPub</td>\n",
              "      <td>...</td>\n",
              "      <td>0</td>\n",
              "      <td>NaN</td>\n",
              "      <td>NaN</td>\n",
              "      <td>NaN</td>\n",
              "      <td>0</td>\n",
              "      <td>12</td>\n",
              "      <td>2008</td>\n",
              "      <td>WD</td>\n",
              "      <td>Normal</td>\n",
              "      <td>250000</td>\n",
              "    </tr>\n",
              "  </tbody>\n",
              "</table>\n",
              "<p>5 rows × 81 columns</p>\n",
              "</div>\n",
              "      <button class=\"colab-df-convert\" onclick=\"convertToInteractive('df-7f36b10c-8977-4ae8-9671-1d12e7339c93')\"\n",
              "              title=\"Convert this dataframe to an interactive table.\"\n",
              "              style=\"display:none;\">\n",
              "        \n",
              "  <svg xmlns=\"http://www.w3.org/2000/svg\" height=\"24px\"viewBox=\"0 0 24 24\"\n",
              "       width=\"24px\">\n",
              "    <path d=\"M0 0h24v24H0V0z\" fill=\"none\"/>\n",
              "    <path d=\"M18.56 5.44l.94 2.06.94-2.06 2.06-.94-2.06-.94-.94-2.06-.94 2.06-2.06.94zm-11 1L8.5 8.5l.94-2.06 2.06-.94-2.06-.94L8.5 2.5l-.94 2.06-2.06.94zm10 10l.94 2.06.94-2.06 2.06-.94-2.06-.94-.94-2.06-.94 2.06-2.06.94z\"/><path d=\"M17.41 7.96l-1.37-1.37c-.4-.4-.92-.59-1.43-.59-.52 0-1.04.2-1.43.59L10.3 9.45l-7.72 7.72c-.78.78-.78 2.05 0 2.83L4 21.41c.39.39.9.59 1.41.59.51 0 1.02-.2 1.41-.59l7.78-7.78 2.81-2.81c.8-.78.8-2.07 0-2.86zM5.41 20L4 18.59l7.72-7.72 1.47 1.35L5.41 20z\"/>\n",
              "  </svg>\n",
              "      </button>\n",
              "      \n",
              "  <style>\n",
              "    .colab-df-container {\n",
              "      display:flex;\n",
              "      flex-wrap:wrap;\n",
              "      gap: 12px;\n",
              "    }\n",
              "\n",
              "    .colab-df-convert {\n",
              "      background-color: #E8F0FE;\n",
              "      border: none;\n",
              "      border-radius: 50%;\n",
              "      cursor: pointer;\n",
              "      display: none;\n",
              "      fill: #1967D2;\n",
              "      height: 32px;\n",
              "      padding: 0 0 0 0;\n",
              "      width: 32px;\n",
              "    }\n",
              "\n",
              "    .colab-df-convert:hover {\n",
              "      background-color: #E2EBFA;\n",
              "      box-shadow: 0px 1px 2px rgba(60, 64, 67, 0.3), 0px 1px 3px 1px rgba(60, 64, 67, 0.15);\n",
              "      fill: #174EA6;\n",
              "    }\n",
              "\n",
              "    [theme=dark] .colab-df-convert {\n",
              "      background-color: #3B4455;\n",
              "      fill: #D2E3FC;\n",
              "    }\n",
              "\n",
              "    [theme=dark] .colab-df-convert:hover {\n",
              "      background-color: #434B5C;\n",
              "      box-shadow: 0px 1px 3px 1px rgba(0, 0, 0, 0.15);\n",
              "      filter: drop-shadow(0px 1px 2px rgba(0, 0, 0, 0.3));\n",
              "      fill: #FFFFFF;\n",
              "    }\n",
              "  </style>\n",
              "\n",
              "      <script>\n",
              "        const buttonEl =\n",
              "          document.querySelector('#df-7f36b10c-8977-4ae8-9671-1d12e7339c93 button.colab-df-convert');\n",
              "        buttonEl.style.display =\n",
              "          google.colab.kernel.accessAllowed ? 'block' : 'none';\n",
              "\n",
              "        async function convertToInteractive(key) {\n",
              "          const element = document.querySelector('#df-7f36b10c-8977-4ae8-9671-1d12e7339c93');\n",
              "          const dataTable =\n",
              "            await google.colab.kernel.invokeFunction('convertToInteractive',\n",
              "                                                     [key], {});\n",
              "          if (!dataTable) return;\n",
              "\n",
              "          const docLinkHtml = 'Like what you see? Visit the ' +\n",
              "            '<a target=\"_blank\" href=https://colab.research.google.com/notebooks/data_table.ipynb>data table notebook</a>'\n",
              "            + ' to learn more about interactive tables.';\n",
              "          element.innerHTML = '';\n",
              "          dataTable['output_type'] = 'display_data';\n",
              "          await google.colab.output.renderOutput(dataTable, element);\n",
              "          const docLink = document.createElement('div');\n",
              "          docLink.innerHTML = docLinkHtml;\n",
              "          element.appendChild(docLink);\n",
              "        }\n",
              "      </script>\n",
              "    </div>\n",
              "  </div>\n",
              "  "
            ]
          },
          "metadata": {},
          "execution_count": 4
        }
      ]
    },
    {
      "cell_type": "code",
      "source": [
        "# Looking at general info of the df\n",
        "\n",
        "df.info()"
      ],
      "metadata": {
        "colab": {
          "base_uri": "https://localhost:8080/"
        },
        "id": "OOxK0TTvIU-c",
        "outputId": "750f4450-3a56-4d41-edcc-39413809f5da"
      },
      "execution_count": 5,
      "outputs": [
        {
          "output_type": "stream",
          "name": "stdout",
          "text": [
            "<class 'pandas.core.frame.DataFrame'>\n",
            "RangeIndex: 1460 entries, 0 to 1459\n",
            "Data columns (total 81 columns):\n",
            " #   Column         Non-Null Count  Dtype  \n",
            "---  ------         --------------  -----  \n",
            " 0   Id             1460 non-null   int64  \n",
            " 1   MSSubClass     1460 non-null   int64  \n",
            " 2   MSZoning       1460 non-null   object \n",
            " 3   LotFrontage    1201 non-null   float64\n",
            " 4   LotArea        1460 non-null   int64  \n",
            " 5   Street         1460 non-null   object \n",
            " 6   Alley          91 non-null     object \n",
            " 7   LotShape       1460 non-null   object \n",
            " 8   LandContour    1460 non-null   object \n",
            " 9   Utilities      1460 non-null   object \n",
            " 10  LotConfig      1460 non-null   object \n",
            " 11  LandSlope      1460 non-null   object \n",
            " 12  Neighborhood   1460 non-null   object \n",
            " 13  Condition1     1460 non-null   object \n",
            " 14  Condition2     1460 non-null   object \n",
            " 15  BldgType       1460 non-null   object \n",
            " 16  HouseStyle     1460 non-null   object \n",
            " 17  OverallQual    1460 non-null   int64  \n",
            " 18  OverallCond    1460 non-null   int64  \n",
            " 19  YearBuilt      1460 non-null   int64  \n",
            " 20  YearRemodAdd   1460 non-null   int64  \n",
            " 21  RoofStyle      1460 non-null   object \n",
            " 22  RoofMatl       1460 non-null   object \n",
            " 23  Exterior1st    1460 non-null   object \n",
            " 24  Exterior2nd    1460 non-null   object \n",
            " 25  MasVnrType     1452 non-null   object \n",
            " 26  MasVnrArea     1452 non-null   float64\n",
            " 27  ExterQual      1460 non-null   object \n",
            " 28  ExterCond      1460 non-null   object \n",
            " 29  Foundation     1460 non-null   object \n",
            " 30  BsmtQual       1423 non-null   object \n",
            " 31  BsmtCond       1423 non-null   object \n",
            " 32  BsmtExposure   1422 non-null   object \n",
            " 33  BsmtFinType1   1423 non-null   object \n",
            " 34  BsmtFinSF1     1460 non-null   int64  \n",
            " 35  BsmtFinType2   1422 non-null   object \n",
            " 36  BsmtFinSF2     1460 non-null   int64  \n",
            " 37  BsmtUnfSF      1460 non-null   int64  \n",
            " 38  TotalBsmtSF    1460 non-null   int64  \n",
            " 39  Heating        1460 non-null   object \n",
            " 40  HeatingQC      1460 non-null   object \n",
            " 41  CentralAir     1460 non-null   object \n",
            " 42  Electrical     1459 non-null   object \n",
            " 43  1stFlrSF       1460 non-null   int64  \n",
            " 44  2ndFlrSF       1460 non-null   int64  \n",
            " 45  LowQualFinSF   1460 non-null   int64  \n",
            " 46  GrLivArea      1460 non-null   int64  \n",
            " 47  BsmtFullBath   1460 non-null   int64  \n",
            " 48  BsmtHalfBath   1460 non-null   int64  \n",
            " 49  FullBath       1460 non-null   int64  \n",
            " 50  HalfBath       1460 non-null   int64  \n",
            " 51  BedroomAbvGr   1460 non-null   int64  \n",
            " 52  KitchenAbvGr   1460 non-null   int64  \n",
            " 53  KitchenQual    1460 non-null   object \n",
            " 54  TotRmsAbvGrd   1460 non-null   int64  \n",
            " 55  Functional     1460 non-null   object \n",
            " 56  Fireplaces     1460 non-null   int64  \n",
            " 57  FireplaceQu    770 non-null    object \n",
            " 58  GarageType     1379 non-null   object \n",
            " 59  GarageYrBlt    1379 non-null   float64\n",
            " 60  GarageFinish   1379 non-null   object \n",
            " 61  GarageCars     1460 non-null   int64  \n",
            " 62  GarageArea     1460 non-null   int64  \n",
            " 63  GarageQual     1379 non-null   object \n",
            " 64  GarageCond     1379 non-null   object \n",
            " 65  PavedDrive     1460 non-null   object \n",
            " 66  WoodDeckSF     1460 non-null   int64  \n",
            " 67  OpenPorchSF    1460 non-null   int64  \n",
            " 68  EnclosedPorch  1460 non-null   int64  \n",
            " 69  3SsnPorch      1460 non-null   int64  \n",
            " 70  ScreenPorch    1460 non-null   int64  \n",
            " 71  PoolArea       1460 non-null   int64  \n",
            " 72  PoolQC         7 non-null      object \n",
            " 73  Fence          281 non-null    object \n",
            " 74  MiscFeature    54 non-null     object \n",
            " 75  MiscVal        1460 non-null   int64  \n",
            " 76  MoSold         1460 non-null   int64  \n",
            " 77  YrSold         1460 non-null   int64  \n",
            " 78  SaleType       1460 non-null   object \n",
            " 79  SaleCondition  1460 non-null   object \n",
            " 80  SalePrice      1460 non-null   int64  \n",
            "dtypes: float64(3), int64(35), object(43)\n",
            "memory usage: 924.0+ KB\n"
          ]
        }
      ]
    },
    {
      "cell_type": "code",
      "source": [
        "# Looking at the shape of the date to see how many rows and columns there are.\n",
        "df.shape"
      ],
      "metadata": {
        "colab": {
          "base_uri": "https://localhost:8080/"
        },
        "id": "qxuE4SRcH60t",
        "outputId": "a1a57476-79c6-49e3-c7d9-f4871887fd48"
      },
      "execution_count": 6,
      "outputs": [
        {
          "output_type": "execute_result",
          "data": {
            "text/plain": [
              "(1460, 81)"
            ]
          },
          "metadata": {},
          "execution_count": 6
        }
      ]
    },
    {
      "cell_type": "code",
      "source": [
        "# Checking for duplicates\n",
        "\n",
        "df.duplicated().sum()"
      ],
      "metadata": {
        "colab": {
          "base_uri": "https://localhost:8080/"
        },
        "id": "wGzGroG3ILMM",
        "outputId": "41d6d6ef-a892-4864-9ceb-998e64051e32"
      },
      "execution_count": 7,
      "outputs": [
        {
          "output_type": "execute_result",
          "data": {
            "text/plain": [
              "0"
            ]
          },
          "metadata": {},
          "execution_count": 7
        }
      ]
    },
    {
      "cell_type": "code",
      "source": [
        "# Checking for missing values\n",
        "obj_list = []\n",
        "for column in df:\n",
        "  if df[column].isna().sum() > 0 and df[column].dtypes == 'object':\n",
        "    print(column, df[column].isna().sum())\n",
        "    obj_list.append(column)\n",
        "     \n"
      ],
      "metadata": {
        "colab": {
          "base_uri": "https://localhost:8080/"
        },
        "id": "5hkWPt_jISiJ",
        "outputId": "12991158-2d44-4353-d84e-a7545ed0293f"
      },
      "execution_count": 23,
      "outputs": [
        {
          "output_type": "stream",
          "name": "stdout",
          "text": [
            "Alley 1369\n",
            "MasVnrType 8\n",
            "BsmtQual 37\n",
            "BsmtCond 37\n",
            "BsmtExposure 38\n",
            "BsmtFinType1 37\n",
            "BsmtFinType2 38\n",
            "Electrical 1\n",
            "FireplaceQu 690\n",
            "GarageType 81\n",
            "GarageFinish 81\n",
            "GarageQual 81\n",
            "GarageCond 81\n",
            "PoolQC 1453\n",
            "Fence 1179\n",
            "MiscFeature 1406\n"
          ]
        }
      ]
    },
    {
      "cell_type": "code",
      "source": [
        "for value in obj_list:\n",
        "  print(df[value].value_counts(), \"\\n\\n\")"
      ],
      "metadata": {
        "colab": {
          "base_uri": "https://localhost:8080/"
        },
        "id": "1FOlEbZzwVpm",
        "outputId": "73aae9ee-27c7-4845-ac9e-5990115ce2fc"
      },
      "execution_count": 25,
      "outputs": [
        {
          "output_type": "stream",
          "name": "stdout",
          "text": [
            "Grvl    50\n",
            "Pave    41\n",
            "Name: Alley, dtype: int64 \n",
            "\n",
            "\n",
            "None       864\n",
            "BrkFace    445\n",
            "Stone      128\n",
            "BrkCmn      15\n",
            "Name: MasVnrType, dtype: int64 \n",
            "\n",
            "\n",
            "TA    649\n",
            "Gd    618\n",
            "Ex    121\n",
            "Fa     35\n",
            "Name: BsmtQual, dtype: int64 \n",
            "\n",
            "\n",
            "TA    1311\n",
            "Gd      65\n",
            "Fa      45\n",
            "Po       2\n",
            "Name: BsmtCond, dtype: int64 \n",
            "\n",
            "\n",
            "No    953\n",
            "Av    221\n",
            "Gd    134\n",
            "Mn    114\n",
            "Name: BsmtExposure, dtype: int64 \n",
            "\n",
            "\n",
            "Unf    430\n",
            "GLQ    418\n",
            "ALQ    220\n",
            "BLQ    148\n",
            "Rec    133\n",
            "LwQ     74\n",
            "Name: BsmtFinType1, dtype: int64 \n",
            "\n",
            "\n",
            "Unf    1256\n",
            "Rec      54\n",
            "LwQ      46\n",
            "BLQ      33\n",
            "ALQ      19\n",
            "GLQ      14\n",
            "Name: BsmtFinType2, dtype: int64 \n",
            "\n",
            "\n",
            "SBrkr    1334\n",
            "FuseA      94\n",
            "FuseF      27\n",
            "FuseP       3\n",
            "Mix         1\n",
            "Name: Electrical, dtype: int64 \n",
            "\n",
            "\n",
            "Gd    380\n",
            "TA    313\n",
            "Fa     33\n",
            "Ex     24\n",
            "Po     20\n",
            "Name: FireplaceQu, dtype: int64 \n",
            "\n",
            "\n",
            "Attchd     870\n",
            "Detchd     387\n",
            "BuiltIn     88\n",
            "Basment     19\n",
            "CarPort      9\n",
            "2Types       6\n",
            "Name: GarageType, dtype: int64 \n",
            "\n",
            "\n",
            "Unf    605\n",
            "RFn    422\n",
            "Fin    352\n",
            "Name: GarageFinish, dtype: int64 \n",
            "\n",
            "\n",
            "TA    1311\n",
            "Fa      48\n",
            "Gd      14\n",
            "Ex       3\n",
            "Po       3\n",
            "Name: GarageQual, dtype: int64 \n",
            "\n",
            "\n",
            "TA    1326\n",
            "Fa      35\n",
            "Gd       9\n",
            "Po       7\n",
            "Ex       2\n",
            "Name: GarageCond, dtype: int64 \n",
            "\n",
            "\n",
            "Gd    3\n",
            "Ex    2\n",
            "Fa    2\n",
            "Name: PoolQC, dtype: int64 \n",
            "\n",
            "\n",
            "MnPrv    157\n",
            "GdPrv     59\n",
            "GdWo      54\n",
            "MnWw      11\n",
            "Name: Fence, dtype: int64 \n",
            "\n",
            "\n",
            "Shed    49\n",
            "Gar2     2\n",
            "Othr     2\n",
            "TenC     1\n",
            "Name: MiscFeature, dtype: int64 \n",
            "\n",
            "\n"
          ]
        }
      ]
    },
    {
      "cell_type": "code",
      "source": [
        "fill = df['BsmtQual'].isna()\n",
        "dfa = df[fill]\n",
        "dfa['BsmtQual'].head()"
      ],
      "metadata": {
        "colab": {
          "base_uri": "https://localhost:8080/"
        },
        "id": "dy5xw6h82Jv2",
        "outputId": "9fa8636e-3074-44bb-bff2-e8795f91df72"
      },
      "execution_count": 32,
      "outputs": [
        {
          "output_type": "execute_result",
          "data": {
            "text/plain": [
              "17     NaN\n",
              "39     NaN\n",
              "90     NaN\n",
              "102    NaN\n",
              "156    NaN\n",
              "Name: BsmtQual, dtype: object"
            ]
          },
          "metadata": {},
          "execution_count": 32
        }
      ]
    },
    {
      "cell_type": "code",
      "source": [
        "df['Alley'].replace({'Grvl':2, 'Pave':1, np.NaN:0}, inplace=True)\n",
        "\n",
        "df['BsmtQual'].replace({'Ex':5, 'Gd':4, 'TA':3, 'Fa':2, 'Po':1, np.NaN:0},\n",
        "                       inplace=True)\n",
        "df['BsmtCond'].replace({'Ex':5, 'Gd':4, 'TA':3, 'Fa':2, 'Po':1, np.NaN:0}, \n",
        "                       inplace=True)\n",
        "\n",
        "df['BsmtExposure'].replace({'Gd':4, 'Av':3, 'Mn':2, 'No':1, np.NaN:0}, \n",
        "                           inplace=True)\n",
        "df['BsmtFinType1'].replace({'GLQ':6, 'ALQ':5, 'BLQ':4, 'Rec':3, 'Lwq':2,\n",
        "                            'Unf':1, np.NaN:0}, inplace=True)\n",
        "df['BsmtFinType2'].replace({'GLQ':6, 'ALQ':5, 'BLQ':4, 'Rec':3, 'Lwq':2,\n",
        "                            'Unf':1, np.NaN:0}, inplace=True)\n",
        "\n",
        "df['FireplaceQu'].replace({'Ex':5, 'Gd':4, 'TA':3, 'Fa':2, 'Po':1, np.NaN:0}, \n",
        "                       inplace=True)\n",
        "df['PoolQC'].replace({'Ex':4, 'Gd':3, 'TA':2, 'Fa':1, np.NaN:0}, inplace=True)\n"
      ],
      "metadata": {
        "id": "G4lp1-yB0bw-"
      },
      "execution_count": 33,
      "outputs": []
    },
    {
      "cell_type": "code",
      "source": [
        "# Creating my features matrix along with my target vector\n",
        "y = df['SalePrice']\n",
        "\n",
        "X = df.drop(columns=['SalePrice', 'MiscFeature', 'Fence'], inplace=True)"
      ],
      "metadata": {
        "id": "XdNK3WwzO6PZ"
      },
      "execution_count": 34,
      "outputs": []
    },
    {
      "cell_type": "code",
      "source": [
        "# Creating training and test data sets\n",
        "\n",
        "X_train, X_test, y_train, y_test = train_test_split(X, y, random_state=42)\n"
      ],
      "metadata": {
        "id": "PWLYAA0aSBYZ"
      },
      "execution_count": 11,
      "outputs": []
    },
    {
      "cell_type": "code",
      "source": [
        "# Creating a scaler to scale data\n",
        "scaler = StandardScaler()\n",
        "\n",
        "# Creating column selectors and imputers\n",
        "num_sel = make_column_selector(dtype_include='number')\n",
        "cat_sel =make_column_selector(dtype_include='object')\n",
        "\n",
        "# Creating imputers\n",
        "missing = SimpleImputer(strategy='most_frequent')\n",
        "zero = SimpleImputer(strategy='mean')\n",
        "\n",
        "# Creating one hot encoder for categorical data\n",
        "ohe = OneHotEncoder(handle_unknown='ignore', sparse=False)\n"
      ],
      "metadata": {
        "id": "g-PFPKQrSZza"
      },
      "execution_count": 37,
      "outputs": []
    },
    {
      "cell_type": "code",
      "source": [
        "# instantiating numeric and categorical tuples\n",
        "cat_pipe = make_pipeline(missing, ohe)\n",
        "num_pipe = make_pipeline(zero, scaler)\n",
        "num_tup = (num_pipe, num_sel)\n",
        "cat_tup = (cat_pipe, cat_sel)\n",
        "\n",
        "preprocessor = make_column_transformer(num_tup, cat_tup, remainder='passthrough')\n"
      ],
      "metadata": {
        "id": "Rwc4IrscYyUg"
      },
      "execution_count": 38,
      "outputs": []
    },
    {
      "cell_type": "code",
      "source": [
        "# Fitting the preprocessor on the training data\n",
        "preprocessor.fit(X_train, y_train)\n",
        "# Creating X_trained and X_test processed\n",
        "X_train_proc = preprocessor.transform(X_train)\n",
        "X_test_proc = preprocessor.transform(X_test)\n",
        "# taking a look of the shape of processed X_trian\n",
        "X_train_proc.shape\n"
      ],
      "metadata": {
        "colab": {
          "base_uri": "https://localhost:8080/"
        },
        "id": "4gZqodSyn0KS",
        "outputId": "256aba60-6671-47b4-eac3-87733831a626"
      },
      "execution_count": 39,
      "outputs": [
        {
          "output_type": "execute_result",
          "data": {
            "text/plain": [
              "(1095, 285)"
            ]
          },
          "metadata": {},
          "execution_count": 39
        }
      ]
    },
    {
      "cell_type": "code",
      "source": [
        "# Creating the model and starting with the input dimensions being the number \n",
        "# of columns in the processed X_train\n",
        "\n",
        "input_dim = X_train_proc.shape[1]\n",
        "\n",
        "# Instantiating regression model \n",
        "reg_model = Sequential()\n",
        "\n",
        "# Creating model with two hidden layers, ten nodes and the output layer\n",
        "reg_model.add(Dense(5, input_dim=input_dim, activation='relu'))\n",
        "reg_model.add(Dense(5, activation='relu'))\n",
        "reg_model.add(Dense(1, activation='linear'))\n",
        "\n"
      ],
      "metadata": {
        "id": "qIc13Qo7u52-"
      },
      "execution_count": 44,
      "outputs": []
    },
    {
      "cell_type": "code",
      "source": [
        "# Compiling the model with metrics\n",
        "\n",
        "reg_model.compile(loss='mse', optimizer='adam', \n",
        "                  metrics=['acc'])"
      ],
      "metadata": {
        "id": "Cu4nl_IKxTZU"
      },
      "execution_count": 45,
      "outputs": []
    },
    {
      "cell_type": "code",
      "source": [
        "# fitting the model and saving the history\n",
        "\n",
        "history = reg_model.fit(X_train_proc, y_train,\n",
        "                        validation_data = (X_test_proc, y_test),\n",
        "                        epochs=300,\n",
        "                        verbose=0)\n"
      ],
      "metadata": {
        "id": "gBiMZlLdyycs"
      },
      "execution_count": 53,
      "outputs": []
    },
    {
      "cell_type": "code",
      "source": [
        "# plotting the history\n",
        "\n",
        "plot_history(history, ['acc'])"
      ],
      "metadata": {
        "colab": {
          "base_uri": "https://localhost:8080/",
          "height": 545
        },
        "id": "P-AjtaoJzUEh",
        "outputId": "c407f5e5-d900-47f7-8345-677876d5ba1a"
      },
      "execution_count": 56,
      "outputs": [
        {
          "output_type": "display_data",
          "data": {
            "text/plain": [
              "<Figure size 432x288 with 1 Axes>"
            ],
            "image/png": "[encoded data removed]"
          },
          "metadata": {
            "needs_background": "light"
          }
        },
        {
          "output_type": "display_data",
          "data": {
            "text/plain": [
              "<Figure size 432x288 with 1 Axes>"
            ],
            "image/png": "[encoded data removed]"
          },
          "metadata": {
            "needs_background": "light"
          }
        }
      ]
    },
    {
      "cell_type": "code",
      "source": [
        "reg_model2 = Sequential()\n",
        "\n",
        "# Creating model with two hidden layers, ten nodes and the output layer\n",
        "reg_model2.add(Dense(20, input_dim=input_dim, activation='relu'))\n",
        "reg_model2.add(Dropout(.15))\n",
        "reg_model2.add(Dense(20, activation='relu'))\n",
        "reg_model2.add(Dropout(.15))\n",
        "reg_model2.add(Dense(1, activation='linear'))\n",
        "\n",
        "# fitting the model and saving the history\n",
        "history = reg_model.fit(X_train_proc, y_train,\n",
        "                        validation_data = (X_test_proc, y_test),\n",
        "                        epochs=300,\n",
        "                        verbose=0)"
      ],
      "metadata": {
        "id": "UbHAQikb8aW4"
      },
      "execution_count": 60,
      "outputs": []
    },
    {
      "cell_type": "code",
      "source": [
        "# plotting the history\n",
        "\n",
        "plot_history(history, ['acc'])"
      ],
      "metadata": {
        "colab": {
          "base_uri": "https://localhost:8080/",
          "height": 545
        },
        "id": "xMXL1bb79WjP",
        "outputId": "46d72ae3-93b7-4c78-db0a-1ace99c85bbe"
      },
      "execution_count": 61,
      "outputs": [
        {
          "output_type": "display_data",
          "data": {
            "text/plain": [
              "<Figure size 432x288 with 1 Axes>"
            ],
            "image/png": "[encoded data removed]"
          },
          "metadata": {
            "needs_background": "light"
          }
        },
        {
          "output_type": "display_data",
          "data": {
            "text/plain": [
              "<Figure size 432x288 with 1 Axes>"
            ],
            "image/png": "[encoded data removed]"
          },
          "metadata": {
            "needs_background": "light"
          }
        }
      ]
    }
  ]
}